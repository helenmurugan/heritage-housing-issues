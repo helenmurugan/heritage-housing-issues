{
  "cells": [
    {
      "cell_type": "markdown",
      "metadata": {
        "id": "0aStgWSO0E0E"
      },
      "source": [
        "# **Data Collection Notebook**"
      ]
    },
    {
      "cell_type": "markdown",
      "metadata": {
        "id": "1eLEkw5O0ECa"
      },
      "source": [
        "## Objectives\n",
        "\n",
        "* Fetch data from Kaggle and save as raw data\n",
        "* Inspect the data and save it under outputs/datasets/collection.\n",
        "\n",
        "## Inputs\n",
        "\n",
        "* Kaggle JSON file - the authentication token.\n",
        "\n",
        "## Outputs\n",
        "\n",
        "* Generate and save dataset: outputs/dataset/collection/.... \n"
      ]
    },
    {
      "cell_type": "markdown",
      "metadata": {
        "id": "9uWZXH9LwoQg"
      },
      "source": [
        "---"
      ]
    },
    {
      "cell_type": "markdown",
      "metadata": {
        "id": "cqP-UeN-z3i2"
      },
      "source": [
        "# Change working directory"
      ]
    },
    {
      "cell_type": "markdown",
      "metadata": {
        "id": "aOGIGS-uz3i2"
      },
      "source": [
        "We need to change the working directory from its current folder to its parent folder\n",
        "* We access the current directory with os.getcwd()"
      ]
    },
    {
      "cell_type": "code",
      "execution_count": 1,
      "metadata": {
        "id": "wZfF_j-Bz3i4",
        "outputId": "66943449-1436-4c3d-85c7-b85f9f78349b"
      },
      "outputs": [
        {
          "data": {
            "text/plain": [
              "'/workspace/heritage-housing-issues/jupyter_notebooks'"
            ]
          },
          "execution_count": 1,
          "metadata": {},
          "output_type": "execute_result"
        }
      ],
      "source": [
        "import os\n",
        "current_dir = os.getcwd()\n",
        "current_dir"
      ]
    },
    {
      "cell_type": "markdown",
      "metadata": {
        "id": "9MWW8E7lz3i7"
      },
      "source": [
        "We want to make the parent of the current directory the new current directory\n",
        "* os.path.dirname() gets the parent directory\n",
        "* os.chir() defines the new current directory"
      ]
    },
    {
      "cell_type": "code",
      "execution_count": 2,
      "metadata": {
        "id": "TwHsQRWjz3i9",
        "outputId": "86849db3-cd2f-4cc5-ebb8-2d0caafa1a2c"
      },
      "outputs": [
        {
          "name": "stdout",
          "output_type": "stream",
          "text": [
            "You set a new current directory\n"
          ]
        }
      ],
      "source": [
        "os.chdir(os.path.dirname(current_dir))\n",
        "print(\"You set a new current directory\")"
      ]
    },
    {
      "cell_type": "markdown",
      "metadata": {
        "id": "M_xPk_Ijz3i-"
      },
      "source": [
        "Confirm the new current directory"
      ]
    },
    {
      "cell_type": "code",
      "execution_count": 3,
      "metadata": {
        "id": "vz3S-_kjz3jA",
        "outputId": "00b79ae4-75d0-4a96-d193-ac9ef9847ea2"
      },
      "outputs": [
        {
          "data": {
            "text/plain": [
              "'/workspace/heritage-housing-issues'"
            ]
          },
          "execution_count": 3,
          "metadata": {},
          "output_type": "execute_result"
        }
      ],
      "source": [
        "current_dir = os.getcwd()\n",
        "current_dir"
      ]
    },
    {
      "cell_type": "markdown",
      "metadata": {},
      "source": [
        "Install Python packages in the notebooks"
      ]
    },
    {
      "cell_type": "code",
      "execution_count": 4,
      "metadata": {},
      "outputs": [
        {
          "name": "stdout",
          "output_type": "stream",
          "text": [
            "Requirement already satisfied: numpy==1.18.5 in /home/gitpod/.pyenv/versions/3.8.18/lib/python3.8/site-packages (from -r requirements.txt (line 1)) (1.18.5)\n",
            "Requirement already satisfied: pandas==1.4.2 in /home/gitpod/.pyenv/versions/3.8.18/lib/python3.8/site-packages (from -r requirements.txt (line 2)) (1.4.2)\n",
            "Requirement already satisfied: matplotlib==3.3.1 in /home/gitpod/.pyenv/versions/3.8.18/lib/python3.8/site-packages (from -r requirements.txt (line 3)) (3.3.1)\n",
            "Requirement already satisfied: seaborn==0.11.0 in /home/gitpod/.pyenv/versions/3.8.18/lib/python3.8/site-packages (from -r requirements.txt (line 4)) (0.11.0)\n",
            "Requirement already satisfied: ydata-profiling==4.4.0 in /home/gitpod/.pyenv/versions/3.8.18/lib/python3.8/site-packages (from -r requirements.txt (line 5)) (4.4.0)\n",
            "Requirement already satisfied: plotly==4.12.0 in /home/gitpod/.pyenv/versions/3.8.18/lib/python3.8/site-packages (from -r requirements.txt (line 6)) (4.12.0)\n",
            "Requirement already satisfied: ppscore==1.2.0 in /home/gitpod/.pyenv/versions/3.8.18/lib/python3.8/site-packages (from -r requirements.txt (line 7)) (1.2.0)\n",
            "Requirement already satisfied: streamlit==0.85.0 in /home/gitpod/.pyenv/versions/3.8.18/lib/python3.8/site-packages (from -r requirements.txt (line 9)) (0.85.0)\n",
            "Requirement already satisfied: feature-engine==1.0.2 in /home/gitpod/.pyenv/versions/3.8.18/lib/python3.8/site-packages (from -r requirements.txt (line 11)) (1.0.2)\n",
            "Requirement already satisfied: imbalanced-learn==0.8.0 in /home/gitpod/.pyenv/versions/3.8.18/lib/python3.8/site-packages (from -r requirements.txt (line 12)) (0.8.0)\n",
            "Requirement already satisfied: scikit-learn==0.24.2 in /home/gitpod/.pyenv/versions/3.8.18/lib/python3.8/site-packages (from -r requirements.txt (line 13)) (0.24.2)\n",
            "Requirement already satisfied: xgboost==1.2.1 in /home/gitpod/.pyenv/versions/3.8.18/lib/python3.8/site-packages (from -r requirements.txt (line 14)) (1.2.1)\n",
            "Requirement already satisfied: yellowbrick==1.3 in /home/gitpod/.pyenv/versions/3.8.18/lib/python3.8/site-packages (from -r requirements.txt (line 15)) (1.3)\n",
            "Requirement already satisfied: Jinja2==3.1.1 in /home/gitpod/.pyenv/versions/3.8.18/lib/python3.8/site-packages (from -r requirements.txt (line 16)) (3.1.1)\n",
            "Requirement already satisfied: MarkupSafe==2.0.1 in /home/gitpod/.pyenv/versions/3.8.18/lib/python3.8/site-packages (from -r requirements.txt (line 17)) (2.0.1)\n",
            "Requirement already satisfied: protobuf==3.20 in /home/gitpod/.pyenv/versions/3.8.18/lib/python3.8/site-packages (from -r requirements.txt (line 18)) (3.20.0)\n",
            "Requirement already satisfied: ipywidgets==8.0.2 in /home/gitpod/.pyenv/versions/3.8.18/lib/python3.8/site-packages (from -r requirements.txt (line 19)) (8.0.2)\n",
            "Requirement already satisfied: altair<5 in /home/gitpod/.pyenv/versions/3.8.18/lib/python3.8/site-packages (from -r requirements.txt (line 20)) (4.2.2)\n",
            "Requirement already satisfied: python-dateutil>=2.8.1 in /home/gitpod/.pyenv/versions/3.8.18/lib/python3.8/site-packages (from pandas==1.4.2->-r requirements.txt (line 2)) (2.9.0.post0)\n",
            "Requirement already satisfied: pytz>=2020.1 in /home/gitpod/.pyenv/versions/3.8.18/lib/python3.8/site-packages (from pandas==1.4.2->-r requirements.txt (line 2)) (2024.1)\n",
            "Requirement already satisfied: certifi>=2020.06.20 in /home/gitpod/.pyenv/versions/3.8.18/lib/python3.8/site-packages (from matplotlib==3.3.1->-r requirements.txt (line 3)) (2024.2.2)\n",
            "Requirement already satisfied: cycler>=0.10 in /home/gitpod/.pyenv/versions/3.8.18/lib/python3.8/site-packages (from matplotlib==3.3.1->-r requirements.txt (line 3)) (0.12.1)\n",
            "Requirement already satisfied: pyparsing!=2.0.4,!=2.1.2,!=2.1.6,>=2.0.3 in /home/gitpod/.pyenv/versions/3.8.18/lib/python3.8/site-packages (from matplotlib==3.3.1->-r requirements.txt (line 3)) (3.1.2)\n",
            "Requirement already satisfied: pillow>=6.2.0 in /home/gitpod/.pyenv/versions/3.8.18/lib/python3.8/site-packages (from matplotlib==3.3.1->-r requirements.txt (line 3)) (10.3.0)\n",
            "Requirement already satisfied: kiwisolver>=1.0.1 in /home/gitpod/.pyenv/versions/3.8.18/lib/python3.8/site-packages (from matplotlib==3.3.1->-r requirements.txt (line 3)) (1.4.5)\n",
            "Requirement already satisfied: scipy>=1.0 in /home/gitpod/.pyenv/versions/3.8.18/lib/python3.8/site-packages (from seaborn==0.11.0->-r requirements.txt (line 4)) (1.9.3)\n",
            "Requirement already satisfied: PyYAML<6.1,>=5.0.0 in /home/gitpod/.pyenv/versions/3.8.18/lib/python3.8/site-packages (from ydata-profiling==4.4.0->-r requirements.txt (line 5)) (6.0.1)\n",
            "Requirement already satisfied: visions[type_image_path]==0.7.5 in /home/gitpod/.pyenv/versions/3.8.18/lib/python3.8/site-packages (from ydata-profiling==4.4.0->-r requirements.txt (line 5)) (0.7.5)\n",
            "Requirement already satisfied: htmlmin==0.1.12 in /home/gitpod/.pyenv/versions/3.8.18/lib/python3.8/site-packages (from ydata-profiling==4.4.0->-r requirements.txt (line 5)) (0.1.12)\n",
            "Requirement already satisfied: tqdm<5,>=4.48.2 in /home/gitpod/.pyenv/versions/3.8.18/lib/python3.8/site-packages (from ydata-profiling==4.4.0->-r requirements.txt (line 5)) (4.66.2)\n",
            "Requirement already satisfied: typeguard<3,>=2.13.2 in /home/gitpod/.pyenv/versions/3.8.18/lib/python3.8/site-packages (from ydata-profiling==4.4.0->-r requirements.txt (line 5)) (2.13.3)\n",
            "Requirement already satisfied: imagehash==4.3.1 in /home/gitpod/.pyenv/versions/3.8.18/lib/python3.8/site-packages (from ydata-profiling==4.4.0->-r requirements.txt (line 5)) (4.3.1)\n",
            "Requirement already satisfied: phik<0.13,>=0.11.1 in /home/gitpod/.pyenv/versions/3.8.18/lib/python3.8/site-packages (from ydata-profiling==4.4.0->-r requirements.txt (line 5)) (0.12.4)\n",
            "Requirement already satisfied: pydantic<2,>=1.8.1 in /home/gitpod/.pyenv/versions/3.8.18/lib/python3.8/site-packages (from ydata-profiling==4.4.0->-r requirements.txt (line 5)) (1.10.15)\n",
            "Requirement already satisfied: statsmodels<1,>=0.13.2 in /home/gitpod/.pyenv/versions/3.8.18/lib/python3.8/site-packages (from ydata-profiling==4.4.0->-r requirements.txt (line 5)) (0.14.1)\n",
            "Requirement already satisfied: dacite>=1.8 in /home/gitpod/.pyenv/versions/3.8.18/lib/python3.8/site-packages (from ydata-profiling==4.4.0->-r requirements.txt (line 5)) (1.8.1)\n",
            "Requirement already satisfied: requests<3,>=2.24.0 in /home/gitpod/.pyenv/versions/3.8.18/lib/python3.8/site-packages (from ydata-profiling==4.4.0->-r requirements.txt (line 5)) (2.31.0)\n",
            "Requirement already satisfied: wordcloud>=1.9.1 in /home/gitpod/.pyenv/versions/3.8.18/lib/python3.8/site-packages (from ydata-profiling==4.4.0->-r requirements.txt (line 5)) (1.9.3)\n",
            "Requirement already satisfied: multimethod<2,>=1.4 in /home/gitpod/.pyenv/versions/3.8.18/lib/python3.8/site-packages (from ydata-profiling==4.4.0->-r requirements.txt (line 5)) (1.10)\n",
            "Requirement already satisfied: six in /home/gitpod/.pyenv/versions/3.8.18/lib/python3.8/site-packages (from plotly==4.12.0->-r requirements.txt (line 6)) (1.16.0)\n",
            "Requirement already satisfied: retrying>=1.3.3 in /home/gitpod/.pyenv/versions/3.8.18/lib/python3.8/site-packages (from plotly==4.12.0->-r requirements.txt (line 6)) (1.3.4)\n",
            "Requirement already satisfied: toml in /home/gitpod/.pyenv/versions/3.8.18/lib/python3.8/site-packages (from streamlit==0.85.0->-r requirements.txt (line 9)) (0.10.2)\n",
            "Requirement already satisfied: pyarrow in /home/gitpod/.pyenv/versions/3.8.18/lib/python3.8/site-packages (from streamlit==0.85.0->-r requirements.txt (line 9)) (15.0.2)\n",
            "Requirement already satisfied: pydeck>=0.1.dev5 in /home/gitpod/.pyenv/versions/3.8.18/lib/python3.8/site-packages (from streamlit==0.85.0->-r requirements.txt (line 9)) (0.8.1b0)\n",
            "Requirement already satisfied: astor in /home/gitpod/.pyenv/versions/3.8.18/lib/python3.8/site-packages (from streamlit==0.85.0->-r requirements.txt (line 9)) (0.8.1)\n",
            "Requirement already satisfied: validators in /home/gitpod/.pyenv/versions/3.8.18/lib/python3.8/site-packages (from streamlit==0.85.0->-r requirements.txt (line 9)) (0.28.0)\n",
            "Requirement already satisfied: base58 in /home/gitpod/.pyenv/versions/3.8.18/lib/python3.8/site-packages (from streamlit==0.85.0->-r requirements.txt (line 9)) (2.1.1)\n",
            "Requirement already satisfied: cachetools>=4.0 in /home/gitpod/.pyenv/versions/3.8.18/lib/python3.8/site-packages (from streamlit==0.85.0->-r requirements.txt (line 9)) (5.3.3)\n",
            "Requirement already satisfied: packaging in /home/gitpod/.pyenv/versions/3.8.18/lib/python3.8/site-packages (from streamlit==0.85.0->-r requirements.txt (line 9)) (24.0)\n",
            "Requirement already satisfied: click<8.0,>=7.0 in /home/gitpod/.pyenv/versions/3.8.18/lib/python3.8/site-packages (from streamlit==0.85.0->-r requirements.txt (line 9)) (7.1.2)\n",
            "Requirement already satisfied: gitpython in /home/gitpod/.pyenv/versions/3.8.18/lib/python3.8/site-packages (from streamlit==0.85.0->-r requirements.txt (line 9)) (3.1.43)\n",
            "Requirement already satisfied: blinker in /home/gitpod/.pyenv/versions/3.8.18/lib/python3.8/site-packages (from streamlit==0.85.0->-r requirements.txt (line 9)) (1.7.0)\n",
            "Requirement already satisfied: attrs in /home/gitpod/.pyenv/versions/3.8.18/lib/python3.8/site-packages (from streamlit==0.85.0->-r requirements.txt (line 9)) (23.2.0)\n",
            "Requirement already satisfied: tzlocal in /home/gitpod/.pyenv/versions/3.8.18/lib/python3.8/site-packages (from streamlit==0.85.0->-r requirements.txt (line 9)) (5.2)\n",
            "Requirement already satisfied: tornado>=5.0 in /home/gitpod/.pyenv/versions/3.8.18/lib/python3.8/site-packages (from streamlit==0.85.0->-r requirements.txt (line 9)) (6.4)\n",
            "Requirement already satisfied: watchdog in /home/gitpod/.pyenv/versions/3.8.18/lib/python3.8/site-packages (from streamlit==0.85.0->-r requirements.txt (line 9)) (4.0.0)\n",
            "Requirement already satisfied: joblib>=0.11 in /home/gitpod/.pyenv/versions/3.8.18/lib/python3.8/site-packages (from imbalanced-learn==0.8.0->-r requirements.txt (line 12)) (1.4.0)\n",
            "Requirement already satisfied: threadpoolctl>=2.0.0 in /home/gitpod/.pyenv/versions/3.8.18/lib/python3.8/site-packages (from scikit-learn==0.24.2->-r requirements.txt (line 13)) (3.4.0)\n",
            "Requirement already satisfied: traitlets>=4.3.1 in /home/gitpod/.pyenv/versions/3.8.18/lib/python3.8/site-packages (from ipywidgets==8.0.2->-r requirements.txt (line 19)) (5.14.2)\n",
            "Requirement already satisfied: jupyterlab-widgets~=3.0 in /home/gitpod/.pyenv/versions/3.8.18/lib/python3.8/site-packages (from ipywidgets==8.0.2->-r requirements.txt (line 19)) (3.0.10)\n",
            "Requirement already satisfied: ipython>=6.1.0 in /home/gitpod/.pyenv/versions/3.8.18/lib/python3.8/site-packages (from ipywidgets==8.0.2->-r requirements.txt (line 19)) (8.12.3)\n",
            "Requirement already satisfied: widgetsnbextension~=4.0 in /home/gitpod/.pyenv/versions/3.8.18/lib/python3.8/site-packages (from ipywidgets==8.0.2->-r requirements.txt (line 19)) (4.0.10)\n",
            "Requirement already satisfied: ipykernel>=4.5.1 in /home/gitpod/.pyenv/versions/3.8.18/lib/python3.8/site-packages (from ipywidgets==8.0.2->-r requirements.txt (line 19)) (6.29.4)\n",
            "Requirement already satisfied: PyWavelets in /home/gitpod/.pyenv/versions/3.8.18/lib/python3.8/site-packages (from imagehash==4.3.1->ydata-profiling==4.4.0->-r requirements.txt (line 5)) (1.4.1)\n",
            "Requirement already satisfied: tangled-up-in-unicode>=0.0.4 in /home/gitpod/.pyenv/versions/3.8.18/lib/python3.8/site-packages (from visions[type_image_path]==0.7.5->ydata-profiling==4.4.0->-r requirements.txt (line 5)) (0.2.0)\n",
            "Requirement already satisfied: networkx>=2.4 in /home/gitpod/.pyenv/versions/3.8.18/lib/python3.8/site-packages (from visions[type_image_path]==0.7.5->ydata-profiling==4.4.0->-r requirements.txt (line 5)) (3.1)\n",
            "Requirement already satisfied: jsonschema>=3.0 in /home/gitpod/.pyenv/versions/3.8.18/lib/python3.8/site-packages (from altair<5->-r requirements.txt (line 20)) (4.21.1)\n",
            "Requirement already satisfied: toolz in /home/gitpod/.pyenv/versions/3.8.18/lib/python3.8/site-packages (from altair<5->-r requirements.txt (line 20)) (0.12.1)\n",
            "Requirement already satisfied: entrypoints in /home/gitpod/.pyenv/versions/3.8.18/lib/python3.8/site-packages (from altair<5->-r requirements.txt (line 20)) (0.4)\n",
            "Requirement already satisfied: matplotlib-inline>=0.1 in /home/gitpod/.pyenv/versions/3.8.18/lib/python3.8/site-packages (from ipykernel>=4.5.1->ipywidgets==8.0.2->-r requirements.txt (line 19)) (0.1.6)\n",
            "Requirement already satisfied: debugpy>=1.6.5 in /home/gitpod/.pyenv/versions/3.8.18/lib/python3.8/site-packages (from ipykernel>=4.5.1->ipywidgets==8.0.2->-r requirements.txt (line 19)) (1.8.1)\n",
            "Requirement already satisfied: comm>=0.1.1 in /home/gitpod/.pyenv/versions/3.8.18/lib/python3.8/site-packages (from ipykernel>=4.5.1->ipywidgets==8.0.2->-r requirements.txt (line 19)) (0.2.2)\n",
            "Requirement already satisfied: jupyter-core!=5.0.*,>=4.12 in /home/gitpod/.pyenv/versions/3.8.18/lib/python3.8/site-packages (from ipykernel>=4.5.1->ipywidgets==8.0.2->-r requirements.txt (line 19)) (5.7.2)\n",
            "Requirement already satisfied: pyzmq>=24 in /home/gitpod/.pyenv/versions/3.8.18/lib/python3.8/site-packages (from ipykernel>=4.5.1->ipywidgets==8.0.2->-r requirements.txt (line 19)) (25.1.2)\n",
            "Requirement already satisfied: psutil in /home/gitpod/.pyenv/versions/3.8.18/lib/python3.8/site-packages (from ipykernel>=4.5.1->ipywidgets==8.0.2->-r requirements.txt (line 19)) (5.9.8)\n",
            "Requirement already satisfied: jupyter-client>=6.1.12 in /home/gitpod/.pyenv/versions/3.8.18/lib/python3.8/site-packages (from ipykernel>=4.5.1->ipywidgets==8.0.2->-r requirements.txt (line 19)) (8.6.1)\n",
            "Requirement already satisfied: nest-asyncio in /home/gitpod/.pyenv/versions/3.8.18/lib/python3.8/site-packages (from ipykernel>=4.5.1->ipywidgets==8.0.2->-r requirements.txt (line 19)) (1.6.0)\n",
            "Requirement already satisfied: backcall in /home/gitpod/.pyenv/versions/3.8.18/lib/python3.8/site-packages (from ipython>=6.1.0->ipywidgets==8.0.2->-r requirements.txt (line 19)) (0.2.0)\n",
            "Requirement already satisfied: prompt-toolkit!=3.0.37,<3.1.0,>=3.0.30 in /home/gitpod/.pyenv/versions/3.8.18/lib/python3.8/site-packages (from ipython>=6.1.0->ipywidgets==8.0.2->-r requirements.txt (line 19)) (3.0.43)\n",
            "Requirement already satisfied: typing-extensions in /home/gitpod/.pyenv/versions/3.8.18/lib/python3.8/site-packages (from ipython>=6.1.0->ipywidgets==8.0.2->-r requirements.txt (line 19)) (4.11.0)\n",
            "Requirement already satisfied: pickleshare in /home/gitpod/.pyenv/versions/3.8.18/lib/python3.8/site-packages (from ipython>=6.1.0->ipywidgets==8.0.2->-r requirements.txt (line 19)) (0.7.5)\n",
            "Requirement already satisfied: decorator in /home/gitpod/.pyenv/versions/3.8.18/lib/python3.8/site-packages (from ipython>=6.1.0->ipywidgets==8.0.2->-r requirements.txt (line 19)) (5.1.1)\n",
            "Requirement already satisfied: pexpect>4.3 in /home/gitpod/.pyenv/versions/3.8.18/lib/python3.8/site-packages (from ipython>=6.1.0->ipywidgets==8.0.2->-r requirements.txt (line 19)) (4.9.0)\n",
            "Requirement already satisfied: stack-data in /home/gitpod/.pyenv/versions/3.8.18/lib/python3.8/site-packages (from ipython>=6.1.0->ipywidgets==8.0.2->-r requirements.txt (line 19)) (0.6.3)\n",
            "Requirement already satisfied: pygments>=2.4.0 in /home/gitpod/.pyenv/versions/3.8.18/lib/python3.8/site-packages (from ipython>=6.1.0->ipywidgets==8.0.2->-r requirements.txt (line 19)) (2.17.2)\n",
            "Requirement already satisfied: jedi>=0.16 in /home/gitpod/.pyenv/versions/3.8.18/lib/python3.8/site-packages (from ipython>=6.1.0->ipywidgets==8.0.2->-r requirements.txt (line 19)) (0.19.1)\n",
            "Requirement already satisfied: pkgutil-resolve-name>=1.3.10 in /home/gitpod/.pyenv/versions/3.8.18/lib/python3.8/site-packages (from jsonschema>=3.0->altair<5->-r requirements.txt (line 20)) (1.3.10)\n",
            "Requirement already satisfied: referencing>=0.28.4 in /home/gitpod/.pyenv/versions/3.8.18/lib/python3.8/site-packages (from jsonschema>=3.0->altair<5->-r requirements.txt (line 20)) (0.34.0)\n",
            "Requirement already satisfied: jsonschema-specifications>=2023.03.6 in /home/gitpod/.pyenv/versions/3.8.18/lib/python3.8/site-packages (from jsonschema>=3.0->altair<5->-r requirements.txt (line 20)) (2023.12.1)\n",
            "Requirement already satisfied: rpds-py>=0.7.1 in /home/gitpod/.pyenv/versions/3.8.18/lib/python3.8/site-packages (from jsonschema>=3.0->altair<5->-r requirements.txt (line 20)) (0.18.0)\n",
            "Requirement already satisfied: importlib-resources>=1.4.0 in /home/gitpod/.pyenv/versions/3.8.18/lib/python3.8/site-packages (from jsonschema>=3.0->altair<5->-r requirements.txt (line 20)) (6.4.0)\n",
            "Requirement already satisfied: idna<4,>=2.5 in /home/gitpod/.pyenv/versions/3.8.18/lib/python3.8/site-packages (from requests<3,>=2.24.0->ydata-profiling==4.4.0->-r requirements.txt (line 5)) (3.6)\n",
            "Requirement already satisfied: charset-normalizer<4,>=2 in /home/gitpod/.pyenv/versions/3.8.18/lib/python3.8/site-packages (from requests<3,>=2.24.0->ydata-profiling==4.4.0->-r requirements.txt (line 5)) (3.3.2)\n",
            "Requirement already satisfied: urllib3<3,>=1.21.1 in /home/gitpod/.pyenv/versions/3.8.18/lib/python3.8/site-packages (from requests<3,>=2.24.0->ydata-profiling==4.4.0->-r requirements.txt (line 5)) (2.2.1)\n",
            "Requirement already satisfied: patsy>=0.5.4 in /home/gitpod/.pyenv/versions/3.8.18/lib/python3.8/site-packages (from statsmodels<1,>=0.13.2->ydata-profiling==4.4.0->-r requirements.txt (line 5)) (0.5.6)\n",
            "Requirement already satisfied: gitdb<5,>=4.0.1 in /home/gitpod/.pyenv/versions/3.8.18/lib/python3.8/site-packages (from gitpython->streamlit==0.85.0->-r requirements.txt (line 9)) (4.0.11)\n",
            "Requirement already satisfied: backports.zoneinfo in /home/gitpod/.pyenv/versions/3.8.18/lib/python3.8/site-packages (from tzlocal->streamlit==0.85.0->-r requirements.txt (line 9)) (0.2.1)\n",
            "Requirement already satisfied: smmap<6,>=3.0.1 in /home/gitpod/.pyenv/versions/3.8.18/lib/python3.8/site-packages (from gitdb<5,>=4.0.1->gitpython->streamlit==0.85.0->-r requirements.txt (line 9)) (5.0.1)\n",
            "Requirement already satisfied: zipp>=3.1.0 in /home/gitpod/.pyenv/versions/3.8.18/lib/python3.8/site-packages (from importlib-resources>=1.4.0->jsonschema>=3.0->altair<5->-r requirements.txt (line 20)) (3.18.1)\n",
            "Requirement already satisfied: parso<0.9.0,>=0.8.3 in /home/gitpod/.pyenv/versions/3.8.18/lib/python3.8/site-packages (from jedi>=0.16->ipython>=6.1.0->ipywidgets==8.0.2->-r requirements.txt (line 19)) (0.8.4)\n",
            "Requirement already satisfied: importlib-metadata>=4.8.3 in /home/gitpod/.pyenv/versions/3.8.18/lib/python3.8/site-packages (from jupyter-client>=6.1.12->ipykernel>=4.5.1->ipywidgets==8.0.2->-r requirements.txt (line 19)) (7.1.0)\n",
            "Requirement already satisfied: platformdirs>=2.5 in /home/gitpod/.pyenv/versions/3.8.18/lib/python3.8/site-packages (from jupyter-core!=5.0.*,>=4.12->ipykernel>=4.5.1->ipywidgets==8.0.2->-r requirements.txt (line 19)) (4.2.0)\n",
            "Requirement already satisfied: ptyprocess>=0.5 in /home/gitpod/.pyenv/versions/3.8.18/lib/python3.8/site-packages (from pexpect>4.3->ipython>=6.1.0->ipywidgets==8.0.2->-r requirements.txt (line 19)) (0.7.0)\n",
            "Requirement already satisfied: wcwidth in /home/gitpod/.pyenv/versions/3.8.18/lib/python3.8/site-packages (from prompt-toolkit!=3.0.37,<3.1.0,>=3.0.30->ipython>=6.1.0->ipywidgets==8.0.2->-r requirements.txt (line 19)) (0.2.13)\n",
            "Requirement already satisfied: executing>=1.2.0 in /home/gitpod/.pyenv/versions/3.8.18/lib/python3.8/site-packages (from stack-data->ipython>=6.1.0->ipywidgets==8.0.2->-r requirements.txt (line 19)) (2.0.1)\n",
            "Requirement already satisfied: pure-eval in /home/gitpod/.pyenv/versions/3.8.18/lib/python3.8/site-packages (from stack-data->ipython>=6.1.0->ipywidgets==8.0.2->-r requirements.txt (line 19)) (0.2.2)\n",
            "Requirement already satisfied: asttokens>=2.1.0 in /home/gitpod/.pyenv/versions/3.8.18/lib/python3.8/site-packages (from stack-data->ipython>=6.1.0->ipywidgets==8.0.2->-r requirements.txt (line 19)) (2.4.1)\n",
            "\n",
            "\u001b[1m[\u001b[0m\u001b[34;49mnotice\u001b[0m\u001b[1;39;49m]\u001b[0m\u001b[39;49m A new release of pip is available: \u001b[0m\u001b[31;49m23.0.1\u001b[0m\u001b[39;49m -> \u001b[0m\u001b[32;49m24.0\u001b[0m\n",
            "\u001b[1m[\u001b[0m\u001b[34;49mnotice\u001b[0m\u001b[1;39;49m]\u001b[0m\u001b[39;49m To update, run: \u001b[0m\u001b[32;49mpip install --upgrade pip\u001b[0m\n",
            "Note: you may need to restart the kernel to use updated packages.\n"
          ]
        }
      ],
      "source": [
        "%pip install -r requirements.txt"
      ]
    },
    {
      "cell_type": "markdown",
      "metadata": {
        "id": "-mavJ8DibrcQ"
      },
      "source": [
        "# Fetch data from Kaggle"
      ]
    },
    {
      "cell_type": "code",
      "execution_count": 5,
      "metadata": {},
      "outputs": [
        {
          "name": "stdout",
          "output_type": "stream",
          "text": [
            "Requirement already satisfied: kaggle==1.5.12 in /home/gitpod/.pyenv/versions/3.8.18/lib/python3.8/site-packages (1.5.12)\n",
            "Requirement already satisfied: six>=1.10 in /home/gitpod/.pyenv/versions/3.8.18/lib/python3.8/site-packages (from kaggle==1.5.12) (1.16.0)\n",
            "Requirement already satisfied: certifi in /home/gitpod/.pyenv/versions/3.8.18/lib/python3.8/site-packages (from kaggle==1.5.12) (2024.2.2)\n",
            "Requirement already satisfied: python-dateutil in /home/gitpod/.pyenv/versions/3.8.18/lib/python3.8/site-packages (from kaggle==1.5.12) (2.9.0.post0)\n",
            "Requirement already satisfied: requests in /home/gitpod/.pyenv/versions/3.8.18/lib/python3.8/site-packages (from kaggle==1.5.12) (2.31.0)\n",
            "Requirement already satisfied: tqdm in /home/gitpod/.pyenv/versions/3.8.18/lib/python3.8/site-packages (from kaggle==1.5.12) (4.66.2)\n",
            "Requirement already satisfied: python-slugify in /home/gitpod/.pyenv/versions/3.8.18/lib/python3.8/site-packages (from kaggle==1.5.12) (8.0.4)\n",
            "Requirement already satisfied: urllib3 in /home/gitpod/.pyenv/versions/3.8.18/lib/python3.8/site-packages (from kaggle==1.5.12) (2.2.1)\n",
            "Requirement already satisfied: text-unidecode>=1.3 in /home/gitpod/.pyenv/versions/3.8.18/lib/python3.8/site-packages (from python-slugify->kaggle==1.5.12) (1.3)\n",
            "Requirement already satisfied: idna<4,>=2.5 in /home/gitpod/.pyenv/versions/3.8.18/lib/python3.8/site-packages (from requests->kaggle==1.5.12) (3.6)\n",
            "Requirement already satisfied: charset-normalizer<4,>=2 in /home/gitpod/.pyenv/versions/3.8.18/lib/python3.8/site-packages (from requests->kaggle==1.5.12) (3.3.2)\n",
            "\n",
            "\u001b[1m[\u001b[0m\u001b[34;49mnotice\u001b[0m\u001b[1;39;49m]\u001b[0m\u001b[39;49m A new release of pip is available: \u001b[0m\u001b[31;49m23.0.1\u001b[0m\u001b[39;49m -> \u001b[0m\u001b[32;49m24.0\u001b[0m\n",
            "\u001b[1m[\u001b[0m\u001b[34;49mnotice\u001b[0m\u001b[1;39;49m]\u001b[0m\u001b[39;49m To update, run: \u001b[0m\u001b[32;49mpip install --upgrade pip\u001b[0m\n",
            "Note: you may need to restart the kernel to use updated packages.\n"
          ]
        }
      ],
      "source": [
        "%pip install kaggle==1.5.12"
      ]
    },
    {
      "cell_type": "markdown",
      "metadata": {},
      "source": [
        "Take the following steps to access the JSON file from Kaggle:\n",
        "* Create and log in to your Kaggle account.\n",
        "* At the top right, click on your profile picture, then select “Settings” from the dropdown menu.\n",
        "* Scroll down to the API section.\n",
        "* Click 'Expire API Token' to remove any previous tokens.\n",
        "* Click 'Create New API Token' to generate a fresh authentication token and will download a kaggle.json file.\n",
        "* Drag and drop the downloaded kaggle.json file into your file explorer and make sure it is named correctly.\n",
        "* Run the cell below so that the token is recognized in the session."
      ]
    },
    {
      "cell_type": "code",
      "execution_count": 6,
      "metadata": {},
      "outputs": [
        {
          "name": "stdout",
          "output_type": "stream",
          "text": [
            "chmod: cannot access 'kaggle.json': No such file or directory\n"
          ]
        }
      ],
      "source": [
        "import os\n",
        "os.environ['KAGGLE_CONFIG_DIR'] = os.getcwd()\n",
        "! chmod 600 kaggle.json"
      ]
    },
    {
      "cell_type": "markdown",
      "metadata": {},
      "source": [
        "* The heritage housing dataset is located at [Kaggle URL](https://www.kaggle.com/datasets/codeinstitute/housing-prices-data)\n",
        "* Define the kaggle dataset path as the path that comes after https://www.kaggle.com/datasets/\n",
        "* Set the destination folder.\n",
        "* Download the data."
      ]
    },
    {
      "cell_type": "code",
      "execution_count": null,
      "metadata": {},
      "outputs": [],
      "source": [
        "KaggleDatasetPath = \"codeinstitute/housing-prices-data\"\n",
        "DestinationFolder = \"inputs/datasets/raw\"   \n",
        "! kaggle datasets download -d {KaggleDatasetPath} -p {DestinationFolder}"
      ]
    },
    {
      "cell_type": "markdown",
      "metadata": {},
      "source": [
        "Unzip the downloaded file, delete the zip file and delete the kaggle.json file"
      ]
    },
    {
      "cell_type": "code",
      "execution_count": null,
      "metadata": {},
      "outputs": [],
      "source": [
        "! unzip {DestinationFolder}/*.zip -d {DestinationFolder} \\\n",
        "  && rm {DestinationFolder}/*.zip \\\n",
        "  && rm kaggle.json"
      ]
    },
    {
      "cell_type": "markdown",
      "metadata": {
        "id": "uFQo3ycuO-v6"
      },
      "source": [
        "# Load and Inspect Kaggle data"
      ]
    },
    {
      "cell_type": "code",
      "execution_count": 7,
      "metadata": {},
      "outputs": [
        {
          "data": {
            "text/html": [
              "<div>\n",
              "<style scoped>\n",
              "    .dataframe tbody tr th:only-of-type {\n",
              "        vertical-align: middle;\n",
              "    }\n",
              "\n",
              "    .dataframe tbody tr th {\n",
              "        vertical-align: top;\n",
              "    }\n",
              "\n",
              "    .dataframe thead th {\n",
              "        text-align: right;\n",
              "    }\n",
              "</style>\n",
              "<table border=\"1\" class=\"dataframe\">\n",
              "  <thead>\n",
              "    <tr style=\"text-align: right;\">\n",
              "      <th></th>\n",
              "      <th>1stFlrSF</th>\n",
              "      <th>2ndFlrSF</th>\n",
              "      <th>BedroomAbvGr</th>\n",
              "      <th>BsmtExposure</th>\n",
              "      <th>BsmtFinSF1</th>\n",
              "      <th>BsmtFinType1</th>\n",
              "      <th>BsmtUnfSF</th>\n",
              "      <th>EnclosedPorch</th>\n",
              "      <th>GarageArea</th>\n",
              "      <th>GarageFinish</th>\n",
              "      <th>...</th>\n",
              "      <th>LotFrontage</th>\n",
              "      <th>MasVnrArea</th>\n",
              "      <th>OpenPorchSF</th>\n",
              "      <th>OverallCond</th>\n",
              "      <th>OverallQual</th>\n",
              "      <th>TotalBsmtSF</th>\n",
              "      <th>WoodDeckSF</th>\n",
              "      <th>YearBuilt</th>\n",
              "      <th>YearRemodAdd</th>\n",
              "      <th>SalePrice</th>\n",
              "    </tr>\n",
              "  </thead>\n",
              "  <tbody>\n",
              "    <tr>\n",
              "      <th>0</th>\n",
              "      <td>856</td>\n",
              "      <td>854.0</td>\n",
              "      <td>3.0</td>\n",
              "      <td>No</td>\n",
              "      <td>706</td>\n",
              "      <td>GLQ</td>\n",
              "      <td>150</td>\n",
              "      <td>0.0</td>\n",
              "      <td>548</td>\n",
              "      <td>RFn</td>\n",
              "      <td>...</td>\n",
              "      <td>65.0</td>\n",
              "      <td>196.0</td>\n",
              "      <td>61</td>\n",
              "      <td>5</td>\n",
              "      <td>7</td>\n",
              "      <td>856</td>\n",
              "      <td>0.0</td>\n",
              "      <td>2003</td>\n",
              "      <td>2003</td>\n",
              "      <td>208500</td>\n",
              "    </tr>\n",
              "    <tr>\n",
              "      <th>1</th>\n",
              "      <td>1262</td>\n",
              "      <td>0.0</td>\n",
              "      <td>3.0</td>\n",
              "      <td>Gd</td>\n",
              "      <td>978</td>\n",
              "      <td>ALQ</td>\n",
              "      <td>284</td>\n",
              "      <td>NaN</td>\n",
              "      <td>460</td>\n",
              "      <td>RFn</td>\n",
              "      <td>...</td>\n",
              "      <td>80.0</td>\n",
              "      <td>0.0</td>\n",
              "      <td>0</td>\n",
              "      <td>8</td>\n",
              "      <td>6</td>\n",
              "      <td>1262</td>\n",
              "      <td>NaN</td>\n",
              "      <td>1976</td>\n",
              "      <td>1976</td>\n",
              "      <td>181500</td>\n",
              "    </tr>\n",
              "    <tr>\n",
              "      <th>2</th>\n",
              "      <td>920</td>\n",
              "      <td>866.0</td>\n",
              "      <td>3.0</td>\n",
              "      <td>Mn</td>\n",
              "      <td>486</td>\n",
              "      <td>GLQ</td>\n",
              "      <td>434</td>\n",
              "      <td>0.0</td>\n",
              "      <td>608</td>\n",
              "      <td>RFn</td>\n",
              "      <td>...</td>\n",
              "      <td>68.0</td>\n",
              "      <td>162.0</td>\n",
              "      <td>42</td>\n",
              "      <td>5</td>\n",
              "      <td>7</td>\n",
              "      <td>920</td>\n",
              "      <td>NaN</td>\n",
              "      <td>2001</td>\n",
              "      <td>2002</td>\n",
              "      <td>223500</td>\n",
              "    </tr>\n",
              "    <tr>\n",
              "      <th>3</th>\n",
              "      <td>961</td>\n",
              "      <td>NaN</td>\n",
              "      <td>NaN</td>\n",
              "      <td>No</td>\n",
              "      <td>216</td>\n",
              "      <td>ALQ</td>\n",
              "      <td>540</td>\n",
              "      <td>NaN</td>\n",
              "      <td>642</td>\n",
              "      <td>Unf</td>\n",
              "      <td>...</td>\n",
              "      <td>60.0</td>\n",
              "      <td>0.0</td>\n",
              "      <td>35</td>\n",
              "      <td>5</td>\n",
              "      <td>7</td>\n",
              "      <td>756</td>\n",
              "      <td>NaN</td>\n",
              "      <td>1915</td>\n",
              "      <td>1970</td>\n",
              "      <td>140000</td>\n",
              "    </tr>\n",
              "    <tr>\n",
              "      <th>4</th>\n",
              "      <td>1145</td>\n",
              "      <td>NaN</td>\n",
              "      <td>4.0</td>\n",
              "      <td>Av</td>\n",
              "      <td>655</td>\n",
              "      <td>GLQ</td>\n",
              "      <td>490</td>\n",
              "      <td>0.0</td>\n",
              "      <td>836</td>\n",
              "      <td>RFn</td>\n",
              "      <td>...</td>\n",
              "      <td>84.0</td>\n",
              "      <td>350.0</td>\n",
              "      <td>84</td>\n",
              "      <td>5</td>\n",
              "      <td>8</td>\n",
              "      <td>1145</td>\n",
              "      <td>NaN</td>\n",
              "      <td>2000</td>\n",
              "      <td>2000</td>\n",
              "      <td>250000</td>\n",
              "    </tr>\n",
              "  </tbody>\n",
              "</table>\n",
              "<p>5 rows × 24 columns</p>\n",
              "</div>"
            ],
            "text/plain": [
              "   1stFlrSF  2ndFlrSF  BedroomAbvGr BsmtExposure  BsmtFinSF1 BsmtFinType1  \\\n",
              "0       856     854.0           3.0           No         706          GLQ   \n",
              "1      1262       0.0           3.0           Gd         978          ALQ   \n",
              "2       920     866.0           3.0           Mn         486          GLQ   \n",
              "3       961       NaN           NaN           No         216          ALQ   \n",
              "4      1145       NaN           4.0           Av         655          GLQ   \n",
              "\n",
              "   BsmtUnfSF  EnclosedPorch  GarageArea GarageFinish  ...  LotFrontage  \\\n",
              "0        150            0.0         548          RFn  ...         65.0   \n",
              "1        284            NaN         460          RFn  ...         80.0   \n",
              "2        434            0.0         608          RFn  ...         68.0   \n",
              "3        540            NaN         642          Unf  ...         60.0   \n",
              "4        490            0.0         836          RFn  ...         84.0   \n",
              "\n",
              "   MasVnrArea OpenPorchSF  OverallCond  OverallQual  TotalBsmtSF  WoodDeckSF  \\\n",
              "0       196.0          61            5            7          856         0.0   \n",
              "1         0.0           0            8            6         1262         NaN   \n",
              "2       162.0          42            5            7          920         NaN   \n",
              "3         0.0          35            5            7          756         NaN   \n",
              "4       350.0          84            5            8         1145         NaN   \n",
              "\n",
              "   YearBuilt  YearRemodAdd  SalePrice  \n",
              "0       2003          2003     208500  \n",
              "1       1976          1976     181500  \n",
              "2       2001          2002     223500  \n",
              "3       1915          1970     140000  \n",
              "4       2000          2000     250000  \n",
              "\n",
              "[5 rows x 24 columns]"
            ]
          },
          "execution_count": 7,
          "metadata": {},
          "output_type": "execute_result"
        }
      ],
      "source": [
        "import pandas as pd\n",
        "df = pd.read_csv(f\"inputs/datasets/raw/house-prices/house-price/house_prices_records.csv\")\n",
        "df.head()"
      ]
    },
    {
      "cell_type": "markdown",
      "metadata": {},
      "source": [
        "DataFrame Summary"
      ]
    },
    {
      "cell_type": "code",
      "execution_count": 8,
      "metadata": {},
      "outputs": [
        {
          "name": "stdout",
          "output_type": "stream",
          "text": [
            "<class 'pandas.core.frame.DataFrame'>\n",
            "RangeIndex: 1460 entries, 0 to 1459\n",
            "Data columns (total 24 columns):\n",
            " #   Column         Non-Null Count  Dtype  \n",
            "---  ------         --------------  -----  \n",
            " 0   1stFlrSF       1460 non-null   int64  \n",
            " 1   2ndFlrSF       1374 non-null   float64\n",
            " 2   BedroomAbvGr   1361 non-null   float64\n",
            " 3   BsmtExposure   1460 non-null   object \n",
            " 4   BsmtFinSF1     1460 non-null   int64  \n",
            " 5   BsmtFinType1   1346 non-null   object \n",
            " 6   BsmtUnfSF      1460 non-null   int64  \n",
            " 7   EnclosedPorch  136 non-null    float64\n",
            " 8   GarageArea     1460 non-null   int64  \n",
            " 9   GarageFinish   1298 non-null   object \n",
            " 10  GarageYrBlt    1379 non-null   float64\n",
            " 11  GrLivArea      1460 non-null   int64  \n",
            " 12  KitchenQual    1460 non-null   object \n",
            " 13  LotArea        1460 non-null   int64  \n",
            " 14  LotFrontage    1201 non-null   float64\n",
            " 15  MasVnrArea     1452 non-null   float64\n",
            " 16  OpenPorchSF    1460 non-null   int64  \n",
            " 17  OverallCond    1460 non-null   int64  \n",
            " 18  OverallQual    1460 non-null   int64  \n",
            " 19  TotalBsmtSF    1460 non-null   int64  \n",
            " 20  WoodDeckSF     155 non-null    float64\n",
            " 21  YearBuilt      1460 non-null   int64  \n",
            " 22  YearRemodAdd   1460 non-null   int64  \n",
            " 23  SalePrice      1460 non-null   int64  \n",
            "dtypes: float64(7), int64(13), object(4)\n",
            "memory usage: 273.9+ KB\n"
          ]
        }
      ],
      "source": [
        "df.info()"
      ]
    },
    {
      "cell_type": "markdown",
      "metadata": {},
      "source": [
        "Check for missing data"
      ]
    },
    {
      "cell_type": "code",
      "execution_count": 9,
      "metadata": {},
      "outputs": [
        {
          "data": {
            "text/plain": [
              "1stFlrSF            0\n",
              "2ndFlrSF           86\n",
              "BedroomAbvGr       99\n",
              "BsmtExposure        0\n",
              "BsmtFinSF1          0\n",
              "BsmtFinType1      114\n",
              "BsmtUnfSF           0\n",
              "EnclosedPorch    1324\n",
              "GarageArea          0\n",
              "GarageFinish      162\n",
              "GarageYrBlt        81\n",
              "GrLivArea           0\n",
              "KitchenQual         0\n",
              "LotArea             0\n",
              "LotFrontage       259\n",
              "MasVnrArea          8\n",
              "OpenPorchSF         0\n",
              "OverallCond         0\n",
              "OverallQual         0\n",
              "TotalBsmtSF         0\n",
              "WoodDeckSF       1305\n",
              "YearBuilt           0\n",
              "YearRemodAdd        0\n",
              "SalePrice           0\n",
              "dtype: int64"
            ]
          },
          "execution_count": 9,
          "metadata": {},
          "output_type": "execute_result"
        }
      ],
      "source": [
        "df.isnull().sum()"
      ]
    },
    {
      "cell_type": "markdown",
      "metadata": {},
      "source": [
        "Check for duplicated data"
      ]
    },
    {
      "cell_type": "code",
      "execution_count": 10,
      "metadata": {},
      "outputs": [
        {
          "data": {
            "text/html": [
              "<div>\n",
              "<style scoped>\n",
              "    .dataframe tbody tr th:only-of-type {\n",
              "        vertical-align: middle;\n",
              "    }\n",
              "\n",
              "    .dataframe tbody tr th {\n",
              "        vertical-align: top;\n",
              "    }\n",
              "\n",
              "    .dataframe thead th {\n",
              "        text-align: right;\n",
              "    }\n",
              "</style>\n",
              "<table border=\"1\" class=\"dataframe\">\n",
              "  <thead>\n",
              "    <tr style=\"text-align: right;\">\n",
              "      <th></th>\n",
              "      <th>1stFlrSF</th>\n",
              "      <th>2ndFlrSF</th>\n",
              "      <th>BedroomAbvGr</th>\n",
              "      <th>BsmtExposure</th>\n",
              "      <th>BsmtFinSF1</th>\n",
              "      <th>BsmtFinType1</th>\n",
              "      <th>BsmtUnfSF</th>\n",
              "      <th>EnclosedPorch</th>\n",
              "      <th>GarageArea</th>\n",
              "      <th>GarageFinish</th>\n",
              "      <th>...</th>\n",
              "      <th>LotFrontage</th>\n",
              "      <th>MasVnrArea</th>\n",
              "      <th>OpenPorchSF</th>\n",
              "      <th>OverallCond</th>\n",
              "      <th>OverallQual</th>\n",
              "      <th>TotalBsmtSF</th>\n",
              "      <th>WoodDeckSF</th>\n",
              "      <th>YearBuilt</th>\n",
              "      <th>YearRemodAdd</th>\n",
              "      <th>SalePrice</th>\n",
              "    </tr>\n",
              "  </thead>\n",
              "  <tbody>\n",
              "  </tbody>\n",
              "</table>\n",
              "<p>0 rows × 24 columns</p>\n",
              "</div>"
            ],
            "text/plain": [
              "Empty DataFrame\n",
              "Columns: [1stFlrSF, 2ndFlrSF, BedroomAbvGr, BsmtExposure, BsmtFinSF1, BsmtFinType1, BsmtUnfSF, EnclosedPorch, GarageArea, GarageFinish, GarageYrBlt, GrLivArea, KitchenQual, LotArea, LotFrontage, MasVnrArea, OpenPorchSF, OverallCond, OverallQual, TotalBsmtSF, WoodDeckSF, YearBuilt, YearRemodAdd, SalePrice]\n",
              "Index: []\n",
              "\n",
              "[0 rows x 24 columns]"
            ]
          },
          "execution_count": 10,
          "metadata": {},
          "output_type": "execute_result"
        }
      ],
      "source": [
        "df[df.duplicated(subset=None)]"
      ]
    },
    {
      "cell_type": "markdown",
      "metadata": {},
      "source": [
        "Check unique values in the columns with non-numeric data type"
      ]
    },
    {
      "cell_type": "code",
      "execution_count": 11,
      "metadata": {},
      "outputs": [
        {
          "name": "stdout",
          "output_type": "stream",
          "text": [
            "BedroomAbvGr - 9\n",
            "BsmtExposure - ['No' 'Gd' 'Mn' 'Av' 'None']\n",
            "BsmtFinType1 - ['GLQ' 'ALQ' 'Unf' 'Rec' nan 'BLQ' 'None' 'LwQ']\n",
            "GarageFinish - ['RFn' 'Unf' nan 'Fin' 'None']\n",
            "KitchenQual - ['Gd' 'TA' 'Ex' 'Fa']\n",
            "OverallCond - 9\n",
            "OverallQual - 10\n"
          ]
        }
      ],
      "source": [
        "for col in df:\n",
        "    if df[col].dtypes=='object':\n",
        "        print(col, '-', df[col].unique())\n",
        "    elif df[col].unique().size < 11:\n",
        "        print(col, '-', df[col].unique().size)"
      ]
    },
    {
      "cell_type": "markdown",
      "metadata": {},
      "source": [
        "## Data Observations\n",
        "* The data shape has 1460 rows and 24 columns.\n",
        "* There is a mix of data types namely integers, floats and objects.\n",
        "* 9 columns have missing data to differing degrees.\n",
        "* 4 columns contain categorical data.\n"
      ]
    },
    {
      "cell_type": "markdown",
      "metadata": {},
      "source": [
        "## Next Steps\n",
        "* Initial correlation study \n",
        "* Investigate missing data and identify data cleaning techniques."
      ]
    },
    {
      "cell_type": "markdown",
      "metadata": {
        "id": "ltNetd085qHf"
      },
      "source": [
        "# Push files to Repo"
      ]
    },
    {
      "cell_type": "markdown",
      "metadata": {},
      "source": [
        "* Save the data file in a local folder named 'collection' under 'outputs/datasets/' and push it to the repository."
      ]
    },
    {
      "cell_type": "code",
      "execution_count": 12,
      "metadata": {
        "id": "aKlnIozA4eQO",
        "outputId": "fd09bc1f-adb1-4511-f6ce-492a6af570c0"
      },
      "outputs": [],
      "source": [
        "import os\n",
        "try:\n",
        "  os.makedirs(name='outputs/datasets/collection') # create a folder for the data output\n",
        "except Exception as e:\n",
        "  print(e)\n",
        "\n",
        "df.to_csv(f\"outputs/datasets/collection/house_prices_records.csv\",index=False)\n"
      ]
    }
  ],
  "metadata": {
    "accelerator": "GPU",
    "colab": {
      "name": "Data Practitioner Jupyter Notebook.ipynb",
      "provenance": [],
      "toc_visible": true
    },
    "interpreter": {
      "hash": "8b8334dab9339717f727a1deaf837b322d7a41c20d15cc86be99a8e69ceec8ce"
    },
    "kernelspec": {
      "display_name": "Python 3.8.12 64-bit ('3.8.12': pyenv)",
      "name": "python3"
    },
    "language_info": {
      "codemirror_mode": {
        "name": "ipython",
        "version": 3
      },
      "file_extension": ".py",
      "mimetype": "text/x-python",
      "name": "python",
      "nbconvert_exporter": "python",
      "pygments_lexer": "ipython3",
      "version": "3.8.18"
    },
    "orig_nbformat": 2
  },
  "nbformat": 4,
  "nbformat_minor": 2
}
